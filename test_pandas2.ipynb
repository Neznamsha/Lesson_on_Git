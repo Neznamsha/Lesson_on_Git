{
 "cells": [
  {
   "cell_type": "code",
   "execution_count": 8,
   "metadata": {},
   "outputs": [
    {
     "name": "stdout",
     "output_type": "stream",
     "text": [
      "   rosstat_id                           rosstat_name  year  rosstat_weight\n",
      "0         105                        Фарш мясной, кг  2020         0.00608\n",
      "1         106           Пельмени, манты, равиоли, кг  2020         0.00592\n",
      "2         107                     Печень говяжья, кг  2020         0.00146\n",
      "3         111  Говядина (кроме бескостного мяса), кг  2020         0.00687\n",
      "4         112                Говядина бескостная, кг  2020         0.00386\n"
     ]
    }
   ],
   "source": [
    "import pandas as pd\n",
    "\n",
    "import sqlite3\n",
    "\n",
    "\n",
    "df1 = pd.read_excel(\"name.xlsx\")\n",
    "# print(df1)\n",
    "\n",
    "df2 = pd.read_excel(\"id.xlsx\")\n",
    "# print(df2)\n",
    "\n",
    "df_merge = df2.merge(df1,left_on=\"rosstat_id\", right_on=\"rosstat_id\")\n",
    "# print(df_merge)\n",
    "df_top = df1.head(5)\n",
    "print(df_top)\n",
    "\n",
    "# for index,row in df_top.iterrows():\n",
    "#     ros_id = row[\"rosstat_id\"]\n",
    "#     df_top2 = df_merge[df_merge[\"rosstat_id\"] ==]\n"
   ]
  }
 ],
 "metadata": {
  "kernelspec": {
   "display_name": "project",
   "language": "python",
   "name": "python3"
  },
  "language_info": {
   "codemirror_mode": {
    "name": "ipython",
    "version": 3
   },
   "file_extension": ".py",
   "mimetype": "text/x-python",
   "name": "python",
   "nbconvert_exporter": "python",
   "pygments_lexer": "ipython3",
   "version": "3.11.3"
  },
  "orig_nbformat": 4
 },
 "nbformat": 4,
 "nbformat_minor": 2
}
