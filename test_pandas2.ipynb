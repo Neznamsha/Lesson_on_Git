{
 "cells": [
  {
   "cell_type": "code",
   "execution_count": 12,
   "metadata": {},
   "outputs": [],
   "source": [
    "import pandas as pd\n",
    "\n",
    "import sqlite3\n",
    "\n",
    "df_name = pd.read_excel(\"name.xlsx\", sheet_name=\"Sheet1\")\n",
    "df_id = pd.read_excel(\"id.xlsx\", sheet_name=\"Sheet1\")\n",
    "\n",
    "df_merge = df_name.merge(df_id,left_on=\"rosstat_id\", right_on=\"rosstat_id\")\n",
    "df_top_name = df_name.head(5)\n",
    "\n",
    "con = sqlite3.connect(\"Tops.db\")\n",
    "\n",
    "for index,row in df_top_name.iterrows():\n",
    "    ros_id = row[\"rosstat_id\"]\n",
    "    df_top = df_merge[df_merge[\"rosstat_id\"] == ros_id]\n",
    "    df_top = df_top.drop(columns=[\"year\", \"rosstat_weight\", \"web_price_id\", \"city_code\"])\n",
    "    df_top.to_sql(f\"Top{ros_id}\", con, index=False)\n",
    "\n",
    "con.commit()\n",
    "con.close()\n"
   ]
  }
 ],
 "metadata": {
  "kernelspec": {
   "display_name": "project",
   "language": "python",
   "name": "python3"
  },
  "language_info": {
   "codemirror_mode": {
    "name": "ipython",
    "version": 3
   },
   "file_extension": ".py",
   "mimetype": "text/x-python",
   "name": "python",
   "nbconvert_exporter": "python",
   "pygments_lexer": "ipython3",
   "version": "3.11.3"
  },
  "orig_nbformat": 4
 },
 "nbformat": 4,
 "nbformat_minor": 2
}
