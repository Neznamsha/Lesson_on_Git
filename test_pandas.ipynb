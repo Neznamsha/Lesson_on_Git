{
 "cells": [
  {
   "cell_type": "code",
   "execution_count": 3,
   "metadata": {},
   "outputs": [],
   "source": [
    "import pandas as pd\n",
    "\n",
    "df = pd.read_excel(\"data.xlsx\", sheet_name='Sheet1')\n",
    "\n",
    "kapusta = df[df['sku'] == \"Капуста\"]\n",
    "kapusta.to_excel('task3.xlsx')"
   ]
  },
  {
   "cell_type": "code",
   "execution_count": 7,
   "metadata": {},
   "outputs": [],
   "source": [
    "import pandas as pd\n",
    "\n",
    "df = pd.read_excel(\"data.xlsx\", sheet_name='Sheet1')\n",
    "\n",
    "data = df[df[\"sku\"] == \"Киви\"]\n",
    "\n",
    "data2 = data[data[\"priceoforder\"] > 1000]\n",
    "data2.to_excel(\"task4.xlsx\")"
   ]
  },
  {
   "cell_type": "code",
   "execution_count": 11,
   "metadata": {},
   "outputs": [
    {
     "name": "stdout",
     "output_type": "stream",
     "text": [
      "     №        sku  volume  price  priceoforder\n",
      "1    2      Груши      40     38          1520\n",
      "2    3    Капуста      35     12           420\n",
      "3    4  Мандарины      45     45          2025\n",
      "4    5       Киви      23     60          1380\n",
      "5    6    Капуста      36     12           432\n",
      "11  12      Банан      48     22          1056\n",
      "14  15     Персик      42     45          1890\n",
      "15  16    Абрикос      26     40          1040\n",
      "18  19    Морковь      25     12           300\n",
      "19  20        Лук      20     10           200\n",
      "23  24   Баклажан      40     29          1160\n",
      "24  25       Киви      45     60          2700\n",
      "25  26    Капуста      35     12           420\n",
      "26  27  Мандарины      45     45          2025\n",
      "27  28       Киви      23     60          1380\n",
      "28  29    Капуста      36     12           432\n",
      "33  34     Персик      42     45          1890\n",
      "34  35    Абрикос      26     40          1040\n",
      "37  38    Морковь      25     12           300\n"
     ]
    }
   ],
   "source": [
    "import pandas as pd\n",
    "\n",
    "df = pd.read_excel(\"data.xlsx\", sheet_name='Sheet1')\n",
    "\n",
    "data = df[df[\"volume\"] > 15]\n",
    "# print(data)\n",
    "data2 = data[data[\"volume\"] < 50]\n",
    "print(data2)\n",
    "data2.to_excel(\"task5.xlsx\")"
   ]
  },
  {
   "cell_type": "code",
   "execution_count": 17,
   "metadata": {},
   "outputs": [],
   "source": [
    "import pandas as pd\n",
    "import sqlite3\n",
    "\n",
    "con = sqlite3.connect(\"Students.db\")\n",
    "# df = pd.DataFrame({\n",
    "#     \"Student_Id\" : [201,202,203],\n",
    "#     \"Car\" : [\"auto1\", \"auto2\", \"auto3\"]\n",
    "# })\n",
    "\n",
    "# df.to_sql(\"Cars\", con, index=False)\n",
    "\n",
    "query = \"\"\"\n",
    "    SELECT Students.Student_Name, Cars.Car FROM Students\n",
    "    JOIN Cars ON Students.Student_Id = Cars.Student_Id;\n",
    "    \"\"\"\n",
    "join_df = pd.read_sql(query, con)\n",
    "join_df.to_excel(\"Task6.xlsx\", index=False)"
   ]
  }
 ],
 "metadata": {
  "kernelspec": {
   "display_name": "project",
   "language": "python",
   "name": "python3"
  },
  "language_info": {
   "codemirror_mode": {
    "name": "ipython",
    "version": 3
   },
   "file_extension": ".py",
   "mimetype": "text/x-python",
   "name": "python",
   "nbconvert_exporter": "python",
   "pygments_lexer": "ipython3",
   "version": "3.11.3"
  },
  "orig_nbformat": 4
 },
 "nbformat": 4,
 "nbformat_minor": 2
}
