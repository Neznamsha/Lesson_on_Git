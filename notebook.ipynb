{
 "cells": [
  {
   "cell_type": "code",
   "execution_count": 8,
   "metadata": {},
   "outputs": [
    {
     "name": "stdout",
     "output_type": "stream",
     "text": [
      "222908\n"
     ]
    }
   ],
   "source": [
    "# Поиск самых высокооплачиваемых работников с помощью спискового включения\n",
    " \n",
    "# нужно найти всех сотрудников, \n",
    "# зарабатывающих по крайней мере 100 000 долларов в год\n",
    " \n",
    "employees = {'Alice' : 100000,\n",
    "    'Bob' : 99817,\n",
    "    'Carol' : 122908,\n",
    "    'Frank' : 88123,\n",
    "    'Eve' : 93121}\n",
    "\n",
    "# top_managers = [name for name in employees if employees[name] >= 100000]\n",
    "# print(top_managers)\n",
    "\n",
    "total_sum = sum([s for s in employees.values() if s>=100000])\n",
    "print(total_sum)\n",
    "\n",
    "# for name in employees:\n",
    "#     if employees[name] >= 100000: print(name)"
   ]
  },
  {
   "attachments": {},
   "cell_type": "markdown",
   "metadata": {},
   "source": [
    "Зарплата сотрудника составляет salary руб., \n",
    "Расходы на проживание превышают зарплату и составляют expenses руб. в месяц. \n",
    "Расходы растут каждый месяц, кроме 1 на 10% в месяц.\n",
    "Напишите скрипт расчета суммы денег, которую сотрудник должен брать в кредит, (12 месяцев).\n",
    "Формат вывода:\n",
    "Сотрудник будет должен: ХХХ.ХХ рублей"
   ]
  },
  {
   "cell_type": "code",
   "execution_count": 6,
   "metadata": {},
   "outputs": [
    {
     "name": "stdout",
     "output_type": "stream",
     "text": [
      "сейчас месяц  1\n",
      "1 месяц без %\n",
      "зарплата 7.0\n",
      "расходы 10.0\n",
      "сейчас месяц  2\n",
      "Зарплата всего: 14.0\n",
      "Расходы: 21.0\n",
      "сейчас месяц  3\n",
      "Зарплата всего: 21.0\n",
      "Расходы: 33.1\n",
      "сейчас месяц  4\n",
      "Зарплата всего: 28.0\n",
      "Расходы: 46.410000000000004\n",
      "сейчас месяц  5\n",
      "Зарплата всего: 35.0\n",
      "Расходы: 61.05100000000001\n",
      "сейчас месяц  6\n",
      "Зарплата всего: 42.0\n",
      "Расходы: 77.15610000000001\n",
      "сейчас месяц  7\n",
      "Зарплата всего: 49.0\n",
      "Расходы: 94.87171000000001\n",
      "сейчас месяц  8\n",
      "Зарплата всего: 56.0\n",
      "Расходы: 114.35888100000001\n",
      "сейчас месяц  9\n",
      "Зарплата всего: 63.0\n",
      "Расходы: 135.79476910000002\n",
      "сейчас месяц  10\n",
      "Зарплата всего: 70.0\n",
      "Расходы: 159.37424601000004\n",
      "сейчас месяц  11\n",
      "Зарплата всего: 77.0\n",
      "Расходы: 185.31167061100007\n",
      "сейчас месяц  12\n",
      "Зарплата всего: 84.0\n",
      "Расходы: 213.84283767210007\n",
      "должен будет должен 129.84 руб\n"
     ]
    }
   ],
   "source": [
    "salary = float(input(\"зарплата:\"))\n",
    "expenses = float(input(\"Расходы:\"))\n",
    "exptemp = expenses\n",
    "month = [1,2,3,4,5,6,7,8,9,10,11,12]\n",
    "all_salary = salary\n",
    "\n",
    "if salary >= expenses:\n",
    "    print(\"условия задачи нарушены\")\n",
    "else:\n",
    "    for i in month: \n",
    "        print(\"сейчас месяц \", i)\n",
    "        if i != 1:\n",
    "            all_salary = salary * i\n",
    "            print(\"Зарплата всего:\", all_salary)\n",
    "            expenses = expenses * 1.1\n",
    "            exptemp = exptemp + expenses\n",
    "            print(\"Расходы:\", exptemp)\n",
    "        else:\n",
    "            print(\"1 месяц без %\")\n",
    "            print(\"зарплата\", salary)\n",
    "            print(\"расходы\", expenses)\n",
    "\n",
    "live = abs(all_salary - exptemp)\n",
    "print(\"будет должен\", round(live, 2), \"руб\")        "
   ]
  },
  {
   "cell_type": "code",
   "execution_count": 1,
   "metadata": {},
   "outputs": [
    {
     "name": "stdout",
     "output_type": "stream",
     "text": [
      "c:\\Users\\user\\envs\\project\\newproject\\homeworks\\1.1 Result.ipynb\n",
      "c:\\Users\\user\\envs\\project\\newproject\\homeworks\\1.2 Result.ipynb\n",
      "c:\\Users\\user\\envs\\project\\newproject\\homeworks\\1.3 Result.ipynb\n",
      "c:\\Users\\user\\envs\\project\\newproject\\homeworks\\1.4 Result.ipynb\n",
      "c:\\Users\\user\\envs\\project\\newproject\\homeworks\\2.1 Result.ipynb\n",
      "c:\\Users\\user\\envs\\project\\newproject\\homeworks\\2.2 Result.ipynb\n",
      "c:\\Users\\user\\envs\\project\\newproject\\homeworks\\2.3 Result.ipynb\n",
      "c:\\Users\\user\\envs\\project\\newproject\\homeworks\\2.4 Result.ipynb\n"
     ]
    }
   ],
   "source": [
    "import os\n",
    "\n",
    "def get_paths(path = '.'):\n",
    "    for name in os.listdir(path):\n",
    "        abs_path = os.path.abspath(os.path.join(path, name))\n",
    "        yield abs_path\n",
    "\n",
    "        if os.path.isdir(abs_path) is True:\n",
    "            yield from get_paths(abs_path)\n",
    "\n",
    "for i in get_paths('homeworks'):\n",
    "    print(i)"
   ]
  }
 ],
 "metadata": {
  "kernelspec": {
   "display_name": "project",
   "language": "python",
   "name": "python3"
  },
  "language_info": {
   "codemirror_mode": {
    "name": "ipython",
    "version": 3
   },
   "file_extension": ".py",
   "mimetype": "text/x-python",
   "name": "python",
   "nbconvert_exporter": "python",
   "pygments_lexer": "ipython3",
   "version": "3.11.3"
  },
  "orig_nbformat": 4
 },
 "nbformat": 4,
 "nbformat_minor": 2
}
