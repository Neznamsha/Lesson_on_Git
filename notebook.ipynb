{
 "cells": [
  {
   "cell_type": "code",
   "execution_count": 8,
   "metadata": {},
   "outputs": [
    {
     "name": "stdout",
     "output_type": "stream",
     "text": [
      "222908\n"
     ]
    }
   ],
   "source": [
    "# Поиск самых высокооплачиваемых работников с помощью спискового включения\n",
    " \n",
    "# нужно найти всех сотрудников, \n",
    "# зарабатывающих по крайней мере 100 000 долларов в год\n",
    " \n",
    "employees = {'Alice' : 100000,\n",
    "    'Bob' : 99817,\n",
    "    'Carol' : 122908,\n",
    "    'Frank' : 88123,\n",
    "    'Eve' : 93121}\n",
    "\n",
    "# top_managers = [name for name in employees if employees[name] >= 100000]\n",
    "# print(top_managers)\n",
    "\n",
    "total_sum = sum([s for s in employees.values() if s>=100000])\n",
    "print(total_sum)\n",
    "\n",
    "# for name in employees:\n",
    "#     if employees[name] >= 100000: print(name)"
   ]
  }
 ],
 "metadata": {
  "kernelspec": {
   "display_name": "project",
   "language": "python",
   "name": "python3"
  },
  "language_info": {
   "codemirror_mode": {
    "name": "ipython",
    "version": 3
   },
   "file_extension": ".py",
   "mimetype": "text/x-python",
   "name": "python",
   "nbconvert_exporter": "python",
   "pygments_lexer": "ipython3",
   "version": "3.11.3"
  },
  "orig_nbformat": 4
 },
 "nbformat": 4,
 "nbformat_minor": 2
}
