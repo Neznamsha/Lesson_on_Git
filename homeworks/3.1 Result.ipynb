{
 "cells": [
  {
   "attachments": {},
   "cell_type": "markdown",
   "metadata": {},
   "source": [
    "### Выполнение домашнего задания 3.1"
   ]
  },
  {
   "cell_type": "code",
   "execution_count": null,
   "metadata": {},
   "outputs": [],
   "source": [
    "# Задача 3.1.\n",
    "# Создайте класс матрицы (или таблицы).\n",
    "# Требования к классу:\n",
    "#   - каждая колонка является числом от 1 до n (n любое число, которые вы поставите!)\n",
    "#   - в каждой ячейке содержится либо число, либо None\n",
    "#   - доступы следующие методы матрицы:\n",
    "#       * принимать новые значения, \n",
    "#       * заменять существующие значения, \n",
    "#       * выводить число строк и колонок.\n",
    "\n",
    "# Пример матрицы 10 на 10 из единиц:\n",
    "# [[1, 1, 1, 1, 1, 1, 1, 1, 1, 1],\n",
    "#  [1, 1, 1, 1, 1, 1, 1, 1, 1, 1],\n",
    "#  [1, 1, 1, 1, 1, 1, 1, 1, 1, 1],\n",
    "#  [1, 1, 1, 1, 1, 1, 1, 1, 1, 1],\n",
    "#  [1, 1, 1, 1, 1, 1, 1, 1, 1, 1],\n",
    "#  [1, 1, 1, 1, 1, 1, 1, 1, 1, 1],\n",
    "#  [1, 1, 1, 1, 1, 1, 1, 1, 1, 1],\n",
    "#  [1, 1, 1, 1, 1, 1, 1, 1, 1, 1],\n",
    "#  [1, 1, 1, 1, 1, 1, 1, 1, 1, 1],\n",
    "#  [1, 1, 1, 1, 1, 1, 1, 1, 1, 1]]\n",
    "\n",
    "# Примечание! \n",
    "#   - новый класс не запрещено строить на базе существующих типов данных: списков, словарей и тд.\n",
    "#   - отображать в таблице/матрице название колонки не обязательно!\n",
    "#   - использовать готовые классы numpy.array() и pandas.DataFrame() запрещено!\n",
    "#   - проявите фантазию :)"
   ]
  },
  {
   "cell_type": "code",
   "execution_count": 36,
   "metadata": {},
   "outputs": [
    {
     "name": "stdout",
     "output_type": "stream",
     "text": [
      "[[96, 26, 90, 75],\n",
      " [69, 61, 35, 43],\n",
      " [52, 52, 54, 50],\n",
      " [39, 85, 99, 84],\n",
      " [48, 53, 30, 88],\n",
      " [83, 34, 16, 65],\n",
      " [51, 81, 83, 95],\n",
      " [12, 94, 94, 14]]\n",
      "Ячейка для внесения изменений (строка + столбец): [3, 3]\n",
      "Текущее значение ячейки: 54\n",
      "Внесены новые данные: 55\n",
      "\n",
      "[[96, 26, 90, 75],\n",
      " [69, 61, 35, 43],\n",
      " [52, 52, 55, 50],\n",
      " [39, 85, 99, 84],\n",
      " [48, 53, 30, 88],\n",
      " [83, 34, 16, 65],\n",
      " [51, 81, 83, 95],\n",
      " [12, 94, 94, 14]]\n",
      "Число строк в данной матрице: 8\n",
      "Число столбцов в данной матрице: 4\n"
     ]
    }
   ],
   "source": [
    "import pprint, random\n",
    "\n",
    "class Matrix:\n",
    "            \n",
    "    def __init__(self):\n",
    "        self.matrixx = self.create_matrix()\n",
    "        \n",
    "    def create_matrix(self):\n",
    "        x, matrixx = 1, []\n",
    "        rows = random.randint(4,15)\n",
    "        colums = random.randint(4,10)\n",
    "        while x <= rows:\n",
    "            matrixx.append([random.randint(10,99) for i in range(colums)])\n",
    "            x += 1\n",
    "        return matrixx\n",
    "        \n",
    "    def edit_cell_of_matrix(self):\n",
    "        cell = ([int(i) for i in \n",
    "                input(\"Ячейка для изменения (№№ строки и столбца через пробел): \")\n",
    "                .split(\" \")])\n",
    "        print(f'Ячейка для внесения изменений (строка + столбец): {cell}\\n'\n",
    "              f'Текущее значение ячейки: {self.matrixx[cell[0]-1][cell[1]-1]}')\n",
    "        new_data_cell = int(input(\"Новое значение для указанной ячейки: \"))\n",
    "        self.matrixx[cell[0]-1][cell[1]-1] = new_data_cell\n",
    "        print(f'Внесены новые данные: {new_data_cell}\\n')\n",
    "        pprint.pprint(self.matrixx)\n",
    "\n",
    "    def get_matrix_size(self):\n",
    "        print(f'Число строк в данной матрице: {len(self.matrixx)}\\n' +\n",
    "              f'Число столбцов в данной матрице: {len(self.matrixx[0])}')\n",
    "\n",
    "matrix2 = Matrix()\n",
    "pprint.pprint(matrix2.matrixx)\n",
    "matrix2.edit_cell_of_matrix()\n",
    "matrix2.get_matrix_size()\n"
   ]
  }
 ],
 "metadata": {
  "kernelspec": {
   "display_name": "project",
   "language": "python",
   "name": "python3"
  },
  "language_info": {
   "codemirror_mode": {
    "name": "ipython",
    "version": 3
   },
   "file_extension": ".py",
   "mimetype": "text/x-python",
   "name": "python",
   "nbconvert_exporter": "python",
   "pygments_lexer": "ipython3",
   "version": "3.11.3"
  },
  "orig_nbformat": 4
 },
 "nbformat": 4,
 "nbformat_minor": 2
}
