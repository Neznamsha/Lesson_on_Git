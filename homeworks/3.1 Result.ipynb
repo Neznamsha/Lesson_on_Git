{
 "cells": [
  {
   "attachments": {},
   "cell_type": "markdown",
   "metadata": {},
   "source": [
    "### Выполнение домашнего задания 3.1"
   ]
  },
  {
   "cell_type": "code",
   "execution_count": null,
   "metadata": {},
   "outputs": [],
   "source": [
    "# Задача 3.1.\n",
    "# Создайте класс матрицы (или таблицы).\n",
    "# Требования к классу:\n",
    "#   - каждая колонка является числом от 1 до n (n любое число, которые вы поставите!)\n",
    "#   - в каждой ячейке содержится либо число, либо None\n",
    "#   - доступы следующие методы матрицы:\n",
    "#       * принимать новые значения, \n",
    "#       * заменять существующие значения, \n",
    "#       * выводить число строк и колонок.\n",
    "\n",
    "# Пример матрицы 10 на 10 из единиц:\n",
    "# [[1, 1, 1, 1, 1, 1, 1, 1, 1, 1],\n",
    "#  [1, 1, 1, 1, 1, 1, 1, 1, 1, 1],\n",
    "#  [1, 1, 1, 1, 1, 1, 1, 1, 1, 1],\n",
    "#  [1, 1, 1, 1, 1, 1, 1, 1, 1, 1],\n",
    "#  [1, 1, 1, 1, 1, 1, 1, 1, 1, 1],\n",
    "#  [1, 1, 1, 1, 1, 1, 1, 1, 1, 1],\n",
    "#  [1, 1, 1, 1, 1, 1, 1, 1, 1, 1],\n",
    "#  [1, 1, 1, 1, 1, 1, 1, 1, 1, 1],\n",
    "#  [1, 1, 1, 1, 1, 1, 1, 1, 1, 1],\n",
    "#  [1, 1, 1, 1, 1, 1, 1, 1, 1, 1]]\n",
    "\n",
    "# Примечание! \n",
    "#   - новый класс не запрещено строить на базе существующих типов данных: списков, словарей и тд.\n",
    "#   - отображать в таблице/матрице название колонки не обязательно!\n",
    "#   - использовать готовые классы numpy.array() и pandas.DataFrame() запрещено!\n",
    "#   - проявите фантазию :)"
   ]
  },
  {
   "cell_type": "code",
   "execution_count": 26,
   "metadata": {},
   "outputs": [
    {
     "name": "stdout",
     "output_type": "stream",
     "text": [
      "[[77, 26, 67, 36, 68, 90],\n",
      " [72, 43, 93, 51, 62, 61],\n",
      " [13, 61, 68, 53, 78, 21],\n",
      " [50, 60, 61, 96, 51, 77],\n",
      " [32, 63, 36, 31, 99, 25],\n",
      " [54, 55, 91, 77, 79, 14],\n",
      " [47, 34, 48, 15, 33, 92],\n",
      " [93, 26, 56, 72, 93, 98],\n",
      " [68, 16, 50, 19, 82, 35],\n",
      " [59, 19, 11, 72, 29, 54]]\n",
      "Адрес ячейки для внесения изменений: [5, 5]\n",
      "[[77, 26, 67, 36, 68, 90],\n",
      " [72, 43, 93, 51, 62, 61],\n",
      " [13, 61, 68, 53, 78, 21],\n",
      " [50, 60, 61, 96, 51, 77],\n",
      " [32, 63, 36, 31, 98, 25],\n",
      " [54, 55, 91, 77, 79, 14],\n",
      " [47, 34, 48, 15, 33, 92],\n",
      " [93, 26, 56, 72, 93, 98],\n",
      " [68, 16, 50, 19, 82, 35],\n",
      " [59, 19, 11, 72, 29, 54]]\n"
     ]
    }
   ],
   "source": [
    "import pprint, random\n",
    "\n",
    "class Matrix:\n",
    "            \n",
    "    def __init__(self, rows, colums):\n",
    "        self.matrixx = self.create_matrix(rows, colums)\n",
    "        pprint.pprint(self.matrixx,width=50)\n",
    "        \n",
    "    def create_matrix(self, rows, colums):\n",
    "        x, matrixx = 1, []\n",
    "        while x <= rows:\n",
    "            matrixx.append([random.randint(10,99) for i in range(colums)])\n",
    "            x += 1\n",
    "        return matrixx\n",
    "        \n",
    "    def edit_cell_of_matrix(self):\n",
    "        address_of_cell = ([int(i) for i in input(\"Введите адрес ячейки, которую хотите изменить (номер СТРОКИ и номер СТОЛБЦА через пробел): \").split(\" \")])\n",
    "        print(f'Адрес ячейки для внесения изменений: {address_of_cell}')\n",
    "        new_data_cell = int(input(\"Введите новое значение для указанной ячейки: \"))\n",
    "        self.matrixx[address_of_cell[0] - 1][address_of_cell[1] - 1] = new_data_cell\n",
    "        pprint.pprint(self.matrixx,width=50)\n",
    "        # return self.matrixx\n",
    "    \n",
    "    # def __str__(self) -> str:\n",
    "    #     for i in self.matrixx:\n",
    "    #         return \"\\n\".join(self.matrixx(i))\n",
    "\n",
    "    \n",
    "        \n",
    "matrix2 = Matrix(rows=10, colums=6)\n",
    "matrix2.edit_cell_of_matrix()\n",
    "# print(matrix2)\n"
   ]
  }
 ],
 "metadata": {
  "kernelspec": {
   "display_name": "project",
   "language": "python",
   "name": "python3"
  },
  "language_info": {
   "codemirror_mode": {
    "name": "ipython",
    "version": 3
   },
   "file_extension": ".py",
   "mimetype": "text/x-python",
   "name": "python",
   "nbconvert_exporter": "python",
   "pygments_lexer": "ipython3",
   "version": "3.11.3"
  },
  "orig_nbformat": 4
 },
 "nbformat": 4,
 "nbformat_minor": 2
}
