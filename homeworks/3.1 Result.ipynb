{
 "cells": [
  {
   "attachments": {},
   "cell_type": "markdown",
   "metadata": {},
   "source": [
    "### Выполнение домашнего задания 3.1"
   ]
  },
  {
   "cell_type": "code",
   "execution_count": null,
   "metadata": {},
   "outputs": [],
   "source": [
    "# Задача 3.1.\n",
    "# Создайте класс матрицы (или таблицы).\n",
    "# Требования к классу:\n",
    "#   - каждая колонка является числом от 1 до n (n любое число, которые вы поставите!)\n",
    "#   - в каждой ячейке содержится либо число, либо None\n",
    "#   - доступы следующие методы матрицы:\n",
    "#       * принимать новые значения, \n",
    "#       * заменять существующие значения, \n",
    "#       * выводить число строк и колонок.\n",
    "\n",
    "# Пример матрицы 10 на 10 из единиц:\n",
    "# [[1, 1, 1, 1, 1, 1, 1, 1, 1, 1],\n",
    "#  [1, 1, 1, 1, 1, 1, 1, 1, 1, 1],\n",
    "#  [1, 1, 1, 1, 1, 1, 1, 1, 1, 1],\n",
    "#  [1, 1, 1, 1, 1, 1, 1, 1, 1, 1],\n",
    "#  [1, 1, 1, 1, 1, 1, 1, 1, 1, 1],\n",
    "#  [1, 1, 1, 1, 1, 1, 1, 1, 1, 1],\n",
    "#  [1, 1, 1, 1, 1, 1, 1, 1, 1, 1],\n",
    "#  [1, 1, 1, 1, 1, 1, 1, 1, 1, 1],\n",
    "#  [1, 1, 1, 1, 1, 1, 1, 1, 1, 1],\n",
    "#  [1, 1, 1, 1, 1, 1, 1, 1, 1, 1]]\n",
    "\n",
    "# Примечание! \n",
    "#   - новый класс не запрещено строить на базе существующих типов данных: списков, словарей и тд.\n",
    "#   - отображать в таблице/матрице название колонки не обязательно!\n",
    "#   - использовать готовые классы numpy.array() и pandas.DataFrame() запрещено!\n",
    "#   - проявите фантазию :)"
   ]
  },
  {
   "cell_type": "code",
   "execution_count": 1,
   "metadata": {},
   "outputs": [
    {
     "name": "stdout",
     "output_type": "stream",
     "text": [
      "[[12, 21, 81, 35, 81, 24],\n",
      " [13, 98, 41, 51, 76, 42],\n",
      " [77, 53, 26, 27, 19, 73],\n",
      " [86, 69, 29, 31, 71, 63],\n",
      " [28, 50, 59, 36, 68, 90],\n",
      " [32, 84, 45, 23, 25, 70],\n",
      " [88, 69, 51, 43, 97, 62],\n",
      " [35, 59, 23, 27, 30, 56],\n",
      " [42, 23, 54, 20, 30, 75],\n",
      " [16, 17, 79, 19, 15, 75]]\n",
      "Ячейка для внесения изменений (строка + столбец): [1, 1]\n",
      "Текущее значение ячейки: 12\n",
      "Внесены новые данные: 13\n",
      "\n",
      "[[13, 21, 81, 35, 81, 24],\n",
      " [13, 98, 41, 51, 76, 42],\n",
      " [77, 53, 26, 27, 19, 73],\n",
      " [86, 69, 29, 31, 71, 63],\n",
      " [28, 50, 59, 36, 68, 90],\n",
      " [32, 84, 45, 23, 25, 70],\n",
      " [88, 69, 51, 43, 97, 62],\n",
      " [35, 59, 23, 27, 30, 56],\n",
      " [42, 23, 54, 20, 30, 75],\n",
      " [16, 17, 79, 19, 15, 75]]\n"
     ]
    }
   ],
   "source": [
    "import pprint, random\n",
    "\n",
    "class Matrix:\n",
    "            \n",
    "    def __init__(self, rows, colums):\n",
    "        self.matrixx = self.create_matrix(rows, colums)\n",
    "        \n",
    "    def create_matrix(self, rows, colums):\n",
    "        x, matrixx = 1, []\n",
    "        while x <= rows:\n",
    "            matrixx.append([random.randint(10,99) for i in range(colums)])\n",
    "            x += 1\n",
    "        return matrixx\n",
    "        \n",
    "    def edit_cell_of_matrix(self):\n",
    "        cell = ([int(i) for i in \n",
    "                input(\"Ячейка для изменения (№№ строки и столбца через пробел): \")\n",
    "                .split(\" \")])\n",
    "        print(f'Ячейка для внесения изменений (строка + столбец): {cell}\\n'\n",
    "              f'Текущее значение ячейки: {self.matrixx[cell[0]-1][cell[1]-1]}')\n",
    "        new_data_cell = int(input(\"Новое значение для указанной ячейки: \"))\n",
    "        self.matrixx[cell[0]-1][cell[1]-1] = new_data_cell\n",
    "        print(f'Внесены новые данные: {new_data_cell}\\n')\n",
    "        pprint.pprint(self.matrixx)\n",
    "\n",
    "matrix2 = Matrix(rows=10, colums=6)\n",
    "pprint.pprint(matrix2.matrixx)\n",
    "matrix2.edit_cell_of_matrix()\n"
   ]
  }
 ],
 "metadata": {
  "kernelspec": {
   "display_name": "project",
   "language": "python",
   "name": "python3"
  },
  "language_info": {
   "codemirror_mode": {
    "name": "ipython",
    "version": 3
   },
   "file_extension": ".py",
   "mimetype": "text/x-python",
   "name": "python",
   "nbconvert_exporter": "python",
   "pygments_lexer": "ipython3",
   "version": "3.11.3"
  },
  "orig_nbformat": 4
 },
 "nbformat": 4,
 "nbformat_minor": 2
}
