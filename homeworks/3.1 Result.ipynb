{
 "cells": [
  {
   "attachments": {},
   "cell_type": "markdown",
   "metadata": {},
   "source": [
    "### Выполнение домашнего задания 3.1"
   ]
  },
  {
   "cell_type": "code",
   "execution_count": null,
   "metadata": {},
   "outputs": [],
   "source": [
    "# Задача 3.1.\n",
    "# Создайте класс матрицы (или таблицы).\n",
    "# Требования к классу:\n",
    "#   - каждая колонка является числом от 1 до n (n любое число, которые вы поставите!)\n",
    "#   - в каждой ячейке содержится либо число, либо None\n",
    "#   - доступы следующие методы матрицы:\n",
    "#       * принимать новые значения, \n",
    "#       * заменять существующие значения, \n",
    "#       * выводить число строк и колонок.\n",
    "\n",
    "# Пример матрицы 10 на 10 из единиц:\n",
    "# [[1, 1, 1, 1, 1, 1, 1, 1, 1, 1],\n",
    "#  [1, 1, 1, 1, 1, 1, 1, 1, 1, 1],\n",
    "#  [1, 1, 1, 1, 1, 1, 1, 1, 1, 1],\n",
    "#  [1, 1, 1, 1, 1, 1, 1, 1, 1, 1],\n",
    "#  [1, 1, 1, 1, 1, 1, 1, 1, 1, 1],\n",
    "#  [1, 1, 1, 1, 1, 1, 1, 1, 1, 1],\n",
    "#  [1, 1, 1, 1, 1, 1, 1, 1, 1, 1],\n",
    "#  [1, 1, 1, 1, 1, 1, 1, 1, 1, 1],\n",
    "#  [1, 1, 1, 1, 1, 1, 1, 1, 1, 1],\n",
    "#  [1, 1, 1, 1, 1, 1, 1, 1, 1, 1]]\n",
    "\n",
    "# Примечание! \n",
    "#   - новый класс не запрещено строить на базе существующих типов данных: списков, словарей и тд.\n",
    "#   - отображать в таблице/матрице название колонки не обязательно!\n",
    "#   - использовать готовые классы numpy.array() и pandas.DataFrame() запрещено!\n",
    "#   - проявите фантазию :)"
   ]
  },
  {
   "cell_type": "code",
   "execution_count": 92,
   "metadata": {},
   "outputs": [
    {
     "name": "stdout",
     "output_type": "stream",
     "text": [
      "Сгенерирована матрица:\n",
      " --  --  --  --\n",
      "60  49  11  89\n",
      "48  70  42  94\n",
      "32  78  34  78\n",
      "--  --  --  --\n",
      "Ячейка для внесения изменений (строка, столбец): [3, 3]\n",
      "Текущее значение ячейки: 34\n",
      "Внесены новые данные: 344\n",
      "--  --  ---  --\n",
      "60  49   11  89\n",
      "48  70   42  94\n",
      "32  78  344  78\n",
      "--  --  ---  --\n",
      "Число строк в данной матрице: 3\n",
      "Число столбцов в данной матрице: 4\n"
     ]
    }
   ],
   "source": [
    "import random\n",
    "from tabulate import tabulate\n",
    "from pprint import pprint\n",
    "\n",
    "class Matrix:\n",
    "    \n",
    "    def __init__(self):\n",
    "        self.matrix = self.create_matrix()\n",
    "        \n",
    "    def create_matrix(self):\n",
    "        matrix = []\n",
    "        rows = random.randint(2,5)\n",
    "        colums = random.randint(2,5)\n",
    "        for i in range(rows):\n",
    "            y = ([(random.randint(1,99)) for j in range(colums)])\n",
    "            matrix.append(y)\n",
    "        print(\"Сгенерирована матрица:\\n\", tabulate(matrix))\n",
    "        # pprint(matrix)\n",
    "        return matrix\n",
    "        \n",
    "    def edit_cell_of_matrix(self):\n",
    "        try:\n",
    "            cell = ([int(i) for i in \n",
    "                    input(\"Ячейка для изменения (№№ строки и столбца через пробел): \")\n",
    "                    .split(\" \")])\n",
    "            print(f'Ячейка для внесения изменений (строка, столбец): {cell}\\n'\n",
    "              f'Текущее значение ячейки: {self.matrix[cell[0]-1][cell[1]-1]}')\n",
    "        except ValueError: \n",
    "            print(\"Указанной ячейки не существует!\")\n",
    "            return\n",
    "        except IndexError:\n",
    "            print(\"Указанной ячейки не существует!\")\n",
    "            return\n",
    "        \n",
    "        try:\n",
    "            new_data_cell = int(input(\"Новое значение для указанной ячейки: \"))\n",
    "            print(f'Внесены новые данные: {new_data_cell}')\n",
    "        except ValueError:\n",
    "            print(\"Внесены некорректные данные!\")\n",
    "            new_data_cell = 'None'\n",
    "        self.matrix[cell[0]-1][cell[1]-1] = new_data_cell\n",
    "        # pprint(self.matrix)\n",
    "        print(tabulate(self.matrix))\n",
    "\n",
    "    def get_matrix_size(self):\n",
    "        print(f'Число строк в данной матрице: {len(self.matrix)}\\n' +\n",
    "              f'Число столбцов в данной матрице: {len(self.matrix[0])}')\n",
    "\n",
    "matrix2 = Matrix()\n",
    "matrix2.edit_cell_of_matrix()\n",
    "matrix2.get_matrix_size()\n"
   ]
  }
 ],
 "metadata": {
  "kernelspec": {
   "display_name": "project",
   "language": "python",
   "name": "python3"
  },
  "language_info": {
   "codemirror_mode": {
    "name": "ipython",
    "version": 3
   },
   "file_extension": ".py",
   "mimetype": "text/x-python",
   "name": "python",
   "nbconvert_exporter": "python",
   "pygments_lexer": "ipython3",
   "version": "3.11.3"
  },
  "orig_nbformat": 4
 },
 "nbformat": 4,
 "nbformat_minor": 2
}
