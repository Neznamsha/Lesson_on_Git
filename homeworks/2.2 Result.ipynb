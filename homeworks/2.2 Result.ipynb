{
 "cells": [
  {
   "attachments": {},
   "cell_type": "markdown",
   "metadata": {},
   "source": [
    "### Выполнение домашнего задания 2.2"
   ]
  },
  {
   "cell_type": "code",
   "execution_count": 35,
   "metadata": {},
   "outputs": [
    {
     "name": "stdout",
     "output_type": "stream",
     "text": [
      "Месяц 12 (декабрь) является частью IV квартала\n"
     ]
    }
   ],
   "source": [
    "# Задача 2.2. \n",
    "\n",
    "# Напишите функцию, которая возвращает номер квартал по номеру месяца\n",
    "# Например: \n",
    "# месяц 2 (февраль) является частью первого квартала; \n",
    "# месяц 6 (июнь) является частью второго квартала; \n",
    "# месяц 11 (ноябрь) является частью четвертого квартала.\n",
    "\n",
    "month_of_year = {\n",
    "    \"1\" : \"январь\",\n",
    "    \"2\" : \"февраль\",\n",
    "    \"3\" : \"март\",\n",
    "    \"4\" : \"апрель\",\n",
    "    \"5\" : \"май\",\n",
    "    \"6\" : \"июнь\",\n",
    "    \"7\" : \"июль\",\n",
    "    \"8\" : \"август\",\n",
    "    \"9\" : \"сентябрь\",\n",
    "    \"10\" : \"октябрь\",\n",
    "    \"11\" : \"ноябрь\",\n",
    "    \"12\" : \"декабрь\"\n",
    "}\n",
    "\n",
    "quarters = {\n",
    "    \"I\" : [\"январь\", \"февраль\", \"март\"],\n",
    "    \"II\" : [\"апрель\", \"май\", \"июнь\"],\n",
    "    \"III\" : [\"июль\", \"август\", \"сентябрь\"],\n",
    "    \"IV\" : [\"октябрь\", \"ноябрь\", \"декабрь\"]\n",
    "}\n",
    "\n",
    "def quarter_of(x):\n",
    "    for nums in quarters:\n",
    "        if month_of_year[x] in quarters[nums]: \n",
    "            return nums\n",
    "\n",
    "month = input(\"Введите номер месяца: \")\n",
    "print(f'Месяц {month} ({month_of_year[month]}) является частью {quarter_of(month)} квартала')"
   ]
  }
 ],
 "metadata": {
  "kernelspec": {
   "display_name": "project",
   "language": "python",
   "name": "python3"
  },
  "language_info": {
   "codemirror_mode": {
    "name": "ipython",
    "version": 3
   },
   "file_extension": ".py",
   "mimetype": "text/x-python",
   "name": "python",
   "nbconvert_exporter": "python",
   "pygments_lexer": "ipython3",
   "version": "3.11.3"
  },
  "orig_nbformat": 4
 },
 "nbformat": 4,
 "nbformat_minor": 2
}
