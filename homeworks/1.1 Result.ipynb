{
  "cells": [
    {
      "attachments": {},
      "cell_type": "markdown",
      "metadata": {},
      "source": [
        "### Выполнение домашнего задания 1.1"
      ]
    },
    {
      "cell_type": "code",
      "execution_count": 42,
      "metadata": {
        "colab": {
          "base_uri": "https://localhost:8080/"
        },
        "id": "5leuPzVlTj-R",
        "outputId": "7595b7c7-e9ea-42c1-d435-e24e349778ce"
      },
      "outputs": [
        {
          "name": "stdout",
          "output_type": "stream",
          "text": [
            "Waste a Moment New Salvation Staying' Alive Start Me Up\n"
          ]
        }
      ],
      "source": [
        "# Задача 1.1.\n",
        "# Есть строка с перечислением песен\n",
        "\n",
        "# Выведите на консоль с помощью индексации строки, последовательно: первый трек, последний, второй, второй с конца\n",
        "# Нельзя переопределять my_favorite_songs и запятая не должна выводиться.\n",
        "\n",
        "my_favorite_songs = 'Waste a Moment, Staying\\' Alive, A Sorta Fairytale, Start Me Up, New Salvation'\n",
        "\n",
        "# Первый вариант\n",
        "print(my_favorite_songs[:14], my_favorite_songs[-13:], my_favorite_songs[16:30], my_favorite_songs[-26:-15])\n",
        "\n",
        "# Второй вариант\n",
        "list__songs = my_favorite_songs.split(\", \")\n",
        "print(list__songs[0],'\\n', list__songs[-1], '\\n', list__songs[1], '\\n', list__songs[-2])\n"
      ]
    }
  ],
  "metadata": {
    "colab": {
      "provenance": []
    },
    "kernelspec": {
      "display_name": "Python 3",
      "name": "python3"
    },
    "language_info": {
      "codemirror_mode": {
        "name": "ipython",
        "version": 3
      },
      "file_extension": ".py",
      "mimetype": "text/x-python",
      "name": "python",
      "nbconvert_exporter": "python",
      "pygments_lexer": "ipython3",
      "version": "3.11.3"
    }
  },
  "nbformat": 4,
  "nbformat_minor": 0
}
