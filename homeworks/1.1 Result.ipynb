{
  "cells": [
    {
      "attachments": {},
      "cell_type": "markdown",
      "metadata": {},
      "source": [
        "### Выполнение домашнего задания 1.1"
      ]
    },
    {
      "cell_type": "code",
      "execution_count": 7,
      "metadata": {
        "colab": {
          "base_uri": "https://localhost:8080/"
        },
        "id": "5leuPzVlTj-R",
        "outputId": "7595b7c7-e9ea-42c1-d435-e24e349778ce"
      },
      "outputs": [
        {
          "name": "stdout",
          "output_type": "stream",
          "text": [
            "Waste a Moment New Salvation Staying' Alive Start Me Up\n"
          ]
        }
      ],
      "source": [
        "# Задача 1.1.\n",
        "# Есть строка с перечислением песен\n",
        "\n",
        "my_favorite_songs = 'Waste a Moment, Staying\\' Alive, A Sorta Fairytale, Start Me Up, New Salvation'\n",
        "\n",
        "print(my_favorite_songs[:14], my_favorite_songs[-13:], my_favorite_songs[16:30], my_favorite_songs[-26:-15])\n",
        "\n",
        "# Выведите на консоль с помощью индексации строки, последовательно: первый трек, последний, второй, второй с конца\n",
        "# Нельзя переопределять my_favorite_songs и запятая не должна выводиться."
      ]
    },
    {
      "attachments": {},
      "cell_type": "markdown",
      "metadata": {},
      "source": [
        "### Выполнение домашнего задания 1.2"
      ]
    },
    {
      "cell_type": "code",
      "execution_count": 46,
      "metadata": {
        "colab": {
          "base_uri": "https://localhost:8080/"
        },
        "id": "Eug5boDFKw7C",
        "outputId": "33d9b672-a670-42ae-b1b7-de383f9d6b97"
      },
      "outputs": [
        {
          "name": "stdout",
          "output_type": "stream",
          "text": [
            "Три песни звучат 10.45 минут\n"
          ]
        }
      ],
      "source": [
        "# Задача 1.2.\n",
        "\n",
        "# Пункт A, C (модуль random)\n",
        "# Приведем плейлист песен в виде списка списков\n",
        "# Список my_favorite_songs содержит список названий и длительности каждого трека\n",
        "# Выведите общее время звучания трех случайных песен в формате\n",
        "# Три песни звучат ХХХ минут\n",
        "\n",
        "# Пункт C. \n",
        "# Сгенерируйте случайные песни с помощью модуля random\n",
        "# import random\n",
        "\n",
        "my_favorite_songs = [\n",
        "    ['Waste a Moment', 3.03],\n",
        "    ['New Salvation', 4.02],\n",
        "    ['Staying\\' Alive', 3.40],\n",
        "    ['Out of Touch', 3.03],\n",
        "    ['A Sorta Fairytale', 5.28],\n",
        "    ['Easy', 4.15],\n",
        "    ['Beautiful Day', 4.04],\n",
        "    ['Nowhere to Run', 2.58],\n",
        "    ['In This World', 4.02],\n",
        "]\n",
        "\n",
        "import random\n",
        "i = 1\n",
        "sum_time = 0\n",
        "while i<=3:\n",
        "    sum_time = sum_time + random.choice(my_favorite_songs)[1]\n",
        "    i += 1\n",
        "print(f'Три песни звучат {sum_time} минут')\n"
      ]
    },
    {
      "cell_type": "code",
      "execution_count": 63,
      "metadata": {
        "colab": {
          "base_uri": "https://localhost:8080/"
        },
        "id": "9GLMJyl7fD6E",
        "outputId": "20525cd1-f6db-4847-b07e-044386bbd744"
      },
      "outputs": [
        {
          "name": "stdout",
          "output_type": "stream",
          "text": [
            "Три песни звучат 10.62 минут\n"
          ]
        }
      ],
      "source": [
        "# Пункт B, C (модуль random)\n",
        "# Есть словарь песен \n",
        "# Распечатайте общее время звучания трех случайных песен\n",
        "# Вывод: Три песни звучат ХХХ минут.\n",
        "\n",
        "# Пункт C. \n",
        "# Сгенерируйте случайные песни с помощью модуля random\n",
        "# import random\n",
        "\n",
        "my_favorite_songs_dict = {\n",
        "    'Waste a Moment': 3.03,\n",
        "    'New Salvation': 4.02,\n",
        "    'Staying\\' Alive': 3.40,\n",
        "    'Out of Touch': 3.03,\n",
        "    'A Sorta Fairytale': 5.28,\n",
        "    'Easy': 4.15,\n",
        "    'Beautiful Day': 4.04,\n",
        "    'Nowhere to Run': 2.58,\n",
        "    'In This World': 4.02,\n",
        "}\n",
        "import random\n",
        "i = 1\n",
        "sum_times = 0\n",
        "while i<=3:\n",
        "    sum_times = sum_times + my_favorite_songs_dict[random.choice(list(my_favorite_songs_dict))]\n",
        "    i += 1\n",
        "print(f'Три песни звучат {sum_times} минут')\n",
        "\n",
        "# Дополнительно \n",
        "# Пункт D.\n",
        "# Переведите минуты и секунды в формат времени. Используйте модуль datetime \n",
        "# import datetime\n",
        "# time = datetime(hour=12, minute=0, second=, microsecond=)\n",
        "# print(isoformat(timespec='microseconds'))"
      ]
    }
  ],
  "metadata": {
    "colab": {
      "provenance": []
    },
    "kernelspec": {
      "display_name": "Python 3",
      "name": "python3"
    },
    "language_info": {
      "codemirror_mode": {
        "name": "ipython",
        "version": 3
      },
      "file_extension": ".py",
      "mimetype": "text/x-python",
      "name": "python",
      "nbconvert_exporter": "python",
      "pygments_lexer": "ipython3",
      "version": "3.11.3"
    }
  },
  "nbformat": 4,
  "nbformat_minor": 0
}
