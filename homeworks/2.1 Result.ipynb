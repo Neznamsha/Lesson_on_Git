{
 "cells": [
  {
   "attachments": {},
   "cell_type": "markdown",
   "metadata": {},
   "source": [
    "### Выполнение домашнего задания 2.1"
   ]
  },
  {
   "cell_type": "code",
   "execution_count": 40,
   "metadata": {},
   "outputs": [
    {
     "name": "stdout",
     "output_type": "stream",
     "text": [
      "min = -134\n",
      "max = 566\n"
     ]
    }
   ],
   "source": [
    "# Задача 2.1. \n",
    "\n",
    "# Создайте две функции maximum и minimum,\n",
    "# которые получают список целых чисел в качестве входных данных \n",
    "# и возвращают наибольшее и наименьшее число в этом списке соответственно.\n",
    "# Например,\n",
    "# * [4,6,2,1,9,63,-134,566]         -> max = 566, min = -134\n",
    "# * [-52, 56, 30, 29, -54, 0, -110] -> min = -110, max = 56\n",
    "# * [42, 54, 65, 87, 0]             -> min = 0, max = 87\n",
    "# * [5]                             -> min = 5, max = 5\n",
    "# функции sorted, max и min использовать нельзя!\n",
    "\n",
    "arr = [4,6,2,1,9,63,-134,566]\n",
    "\n",
    "def minimum(arr):\n",
    "    min_arr = 0\n",
    "    for i in arr: \n",
    "        if i < min_arr or len(arr) == 1: min_arr = i\n",
    "    print(f'min = {min_arr}') \n",
    "\n",
    "def maximum(arr):\n",
    "    max_arr = 0\n",
    "    for i in arr:\n",
    "        if i > max_arr: max_arr = i\n",
    "    print(f'max = {max_arr}')   \n",
    "\n",
    "minimum(arr) \n",
    "maximum(arr)   \n",
    "        "
   ]
  },
  {
   "cell_type": "code",
   "execution_count": 39,
   "metadata": {},
   "outputs": [
    {
     "name": "stdout",
     "output_type": "stream",
     "text": [
      "min = -134, max = 566\n"
     ]
    }
   ],
   "source": [
    "# Общий вариант\n",
    "\n",
    "arr = [4,6,2,1,9,63,-134,566]\n",
    "\n",
    "def min_and_max(arr):\n",
    "    max_arr, min_arr = 0, 0\n",
    "    if len(arr) > 1:\n",
    "        for i in arr:\n",
    "            if i > max_arr:\n",
    "                max_arr = i\n",
    "            elif i < min_arr:\n",
    "                min_arr = i\n",
    "            else:\n",
    "                pass\n",
    "    else:\n",
    "        max_arr = arr[0]\n",
    "        min_arr = arr[0]        \n",
    "    print(f'min = {min_arr}, max = {max_arr}')\n",
    "\n",
    "min_and_max(arr)"
   ]
  }
 ],
 "metadata": {
  "kernelspec": {
   "display_name": "project",
   "language": "python",
   "name": "python3"
  },
  "language_info": {
   "codemirror_mode": {
    "name": "ipython",
    "version": 3
   },
   "file_extension": ".py",
   "mimetype": "text/x-python",
   "name": "python",
   "nbconvert_exporter": "python",
   "pygments_lexer": "ipython3",
   "version": "3.11.3"
  },
  "orig_nbformat": 4
 },
 "nbformat": 4,
 "nbformat_minor": 2
}
