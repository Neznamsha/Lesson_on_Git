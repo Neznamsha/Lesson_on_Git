{
 "cells": [
  {
   "attachments": {},
   "cell_type": "markdown",
   "metadata": {},
   "source": [
    "### Выполнение домашнего задания 4.1"
   ]
  },
  {
   "cell_type": "code",
   "execution_count": 6,
   "metadata": {},
   "outputs": [],
   "source": [
    "# Задача 4.1.\n",
    "# Домашнее задание на SQL\n",
    "\n",
    "# В базе данных teacher создайте таблицу Students\n",
    "# Структура таблицы: Student_Id - Integer, Student_Name - Text, School_Id - Integer (Primary key)\n",
    "\n",
    "import sqlite3\n",
    "\n",
    "def get_connection():\n",
    "  connection = sqlite3.connect('teachers.db')\n",
    "  return connection\n",
    "\n",
    "def close_connection(connection):\n",
    "  if connection:\n",
    "    connection.close()\n",
    "\n",
    "# Создание таблицы Students\n",
    "connection = get_connection()\n",
    "cursor = connection.cursor()\n",
    "query = \"\"\"CREATE TABLE Students (\n",
    "    Student_Id INTEGER NOT NULL,\n",
    "    Student_Name TEXT NOT NULL,\n",
    "    School_Id INTEGER PRIMARY KEY);\"\"\"\n",
    "cursor.execute(query)\n",
    "connection.commit()\n",
    "close_connection(connection)"
   ]
  },
  {
   "cell_type": "code",
   "execution_count": 7,
   "metadata": {},
   "outputs": [],
   "source": [
    "# Наполните таблицу следующими данными:\n",
    "# 201, Иван, 1\n",
    "# 202, Петр, 2\n",
    "# 203, Анастасия, 3\n",
    "# 204, Игорь, 4\n",
    "\n",
    "import sqlite3\n",
    "\n",
    "def get_connection():\n",
    "  connection = sqlite3.connect('teachers.db')\n",
    "  return connection\n",
    "\n",
    "def close_connection(connection):\n",
    "  if connection:\n",
    "    connection.close()\n",
    "\n",
    "# Наполнение таблицы Students\n",
    "connection = get_connection()\n",
    "cursor = connection.cursor()\n",
    "query = \"\"\"\n",
    "INSERT INTO Students (Student_Id,Student_Name,School_Id)\n",
    "VALUES (201,\"Иван\",1),(202,\"Петр\",2),(203,\"Анастасия\",3),(204,\"Игорь\",4);\n",
    "\"\"\"\n",
    "cursor.execute(query)\n",
    "connection.commit()\n",
    "close_connection(connection)"
   ]
  },
  {
   "cell_type": "code",
   "execution_count": 9,
   "metadata": {},
   "outputs": [
    {
     "name": "stdout",
     "output_type": "stream",
     "text": [
      "ID Студента:  201\n",
      "Имя студента:  Иван\n",
      "ID школы:  1\n",
      "Название школы:  Протон\n"
     ]
    }
   ],
   "source": [
    "# Напишите программу, с помощью которой по ID студента можно получать информацию о школе и студенте.\n",
    "\n",
    "# Формат вывода:\n",
    "\n",
    "# ID Студента:\n",
    "# Имя студента:\n",
    "# ID школы:\n",
    "# Название школы:\n",
    "\n",
    "import sqlite3\n",
    "\n",
    "def get_connection():\n",
    "  connection = sqlite3.connect('teachers.db')\n",
    "  return connection\n",
    "\n",
    "def close_connection(connection):\n",
    "  if connection:\n",
    "    connection.close()\n",
    "\n",
    "def get_school_and_student(id_student):\n",
    "  try:\n",
    "    connection = get_connection()\n",
    "    cursor = connection.cursor()\n",
    "    query = \"\"\"SELECT * FROM Students \n",
    "            JOIN School ON School.School_Id = Students.School_Id\n",
    "            WHERE Student_Id = ?\"\"\"\n",
    "    cursor.execute(query,(id_student,))\n",
    "    result = cursor.fetchone()\n",
    "    print(\"ID Студента: \", result[0])\n",
    "    print(\"Имя студента: \", result[1])\n",
    "    print(\"ID школы: \", result[2])\n",
    "    print(\"Название школы: \", result[4])\n",
    "    connection.commit()\n",
    "    close_connection(connection)\n",
    "  except (Exception, sqlite3.Error) as error:\n",
    "    print ('Ошибка в получении данных ', error)\n",
    "\n",
    "get_school_and_student(201)"
   ]
  }
 ],
 "metadata": {
  "kernelspec": {
   "display_name": "project",
   "language": "python",
   "name": "python3"
  },
  "language_info": {
   "codemirror_mode": {
    "name": "ipython",
    "version": 3
   },
   "file_extension": ".py",
   "mimetype": "text/x-python",
   "name": "python",
   "nbconvert_exporter": "python",
   "pygments_lexer": "ipython3",
   "version": "3.11.3"
  },
  "orig_nbformat": 4
 },
 "nbformat": 4,
 "nbformat_minor": 2
}
