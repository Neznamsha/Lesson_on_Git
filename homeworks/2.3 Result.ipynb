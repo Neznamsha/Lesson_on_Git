{
 "cells": [
  {
   "attachments": {},
   "cell_type": "markdown",
   "metadata": {},
   "source": [
    "### Выполнение домашнего задания 2.3"
   ]
  },
  {
   "cell_type": "code",
   "execution_count": 3,
   "metadata": {},
   "outputs": [
    {
     "name": "stdout",
     "output_type": "stream",
     "text": [
      "None\n"
     ]
    }
   ],
   "source": [
    "# Задача 2.3.\n",
    "\n",
    "# Напишите функцию, которая принимает цифры от 0 до 9 и возвращает значение прописью.\n",
    "# Например,\n",
    "# switch_it_up(1) -> 'One'\n",
    "# switch_it_up(3) -> 'Three'\n",
    "# switch_it_up(10000) -> None\n",
    "# Использовать условный оператор if-elif-else нельзя!\n",
    "\n",
    "def switch_it_up(number):\n",
    "    return dict_nums.get(str(number))\n",
    "\n",
    "dict_nums = {\n",
    "    '0' : 'Zero',\n",
    "    '1' : 'One',\n",
    "    '2' : 'Two',\n",
    "    '3' : 'Three',\n",
    "    '4' : 'Four',\n",
    "    '5' : 'Five',\n",
    "    '6' : 'Six',\n",
    "    '7' : 'Seven',\n",
    "    '8' : 'Eight',\n",
    "    '9' : 'Nine',\n",
    "}\n",
    "\n",
    "print(switch_it_up(1000))\n"
   ]
  }
 ],
 "metadata": {
  "kernelspec": {
   "display_name": "project",
   "language": "python",
   "name": "python3"
  },
  "language_info": {
   "codemirror_mode": {
    "name": "ipython",
    "version": 3
   },
   "file_extension": ".py",
   "mimetype": "text/x-python",
   "name": "python",
   "nbconvert_exporter": "python",
   "pygments_lexer": "ipython3",
   "version": "3.11.3"
  },
  "orig_nbformat": 4
 },
 "nbformat": 4,
 "nbformat_minor": 2
}
