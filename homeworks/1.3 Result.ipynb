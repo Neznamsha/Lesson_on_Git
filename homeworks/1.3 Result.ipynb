{
 "cells": [
  {
   "attachments": {},
   "cell_type": "markdown",
   "metadata": {},
   "source": [
    "### Выполнение домашнего задания 1.3"
   ]
  },
  {
   "cell_type": "code",
   "execution_count": 42,
   "metadata": {},
   "outputs": [
    {
     "name": "stdout",
     "output_type": "stream",
     "text": [
      "Такого месяца нет!\n"
     ]
    }
   ],
   "source": [
    "# Задача 1.3.\n",
    "\n",
    "# Напишите скрипт, который принимает от пользователя номер месяца, \n",
    "# а возвращает количество дней в нем.\n",
    "# Результат проверки вывести на консоль\n",
    "# Допущение: в феврале 28 дней\n",
    "# Если номер месяца некорректен - сообщить об этом\n",
    "\n",
    "# Например,\n",
    "    # Введите номер месяца: 3\n",
    "    # Вы ввели март. 31 дней\n",
    "\n",
    "    # Введите номер месяца: 2\n",
    "    # Вы ввели февраль. 28 дней\n",
    "\n",
    "    # Введите номер месяца: 15\n",
    "    # Такого месяца нет!\n",
    "\n",
    "months = [\n",
    "    ['январь', 31],\n",
    "    ['февраль', 28],\n",
    "    ['март', 31],\n",
    "    ['апрель', 30],\n",
    "    ['май', 31],\n",
    "    ['июнь', 30],\n",
    "    ['июль', 31],\n",
    "    ['август', 31],\n",
    "    ['сентябрь', 30],\n",
    "    ['октябрь', 31],\n",
    "    ['ноябрь', 30],\n",
    "    ['декабрь', 31],\n",
    "]\n",
    "num_month = int(input(\"Введите номер месяца:\"))\n",
    "for i in months:\n",
    "    if months.index(i) == (num_month - 1):\n",
    "        print(f'Вы ввели {i[0]}. {i[1]} дней')\n",
    "        break\n",
    "    elif not (0 < num_month <= 12):\n",
    "        print(\"Такого месяца нет!\") \n",
    "        break\n",
    "    "
   ]
  }
 ],
 "metadata": {
  "kernelspec": {
   "display_name": "project",
   "language": "python",
   "name": "python3"
  },
  "language_info": {
   "codemirror_mode": {
    "name": "ipython",
    "version": 3
   },
   "file_extension": ".py",
   "mimetype": "text/x-python",
   "name": "python",
   "nbconvert_exporter": "python",
   "pygments_lexer": "ipython3",
   "version": "3.11.3"
  },
  "orig_nbformat": 4
 },
 "nbformat": 4,
 "nbformat_minor": 2
}
