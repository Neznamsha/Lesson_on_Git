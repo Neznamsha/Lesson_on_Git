{
 "cells": [
  {
   "attachments": {},
   "cell_type": "markdown",
   "metadata": {},
   "source": [
    "### Выполнение домашнего задания 1.4"
   ]
  },
  {
   "cell_type": "code",
   "execution_count": 2,
   "metadata": {},
   "outputs": [
    {
     "name": "stdout",
     "output_type": "stream",
     "text": [
      "Кроссовки тип 3 (Adidas) - 31 шт, стоимость 50747 руб.\n",
      "Мячик тип 2 (Adidas) - 14 шт, стоимость 660 руб.\n",
      "Кепка тип 1 (Adidas) - 60 шт, стоимость 17124 руб.\n",
      "Ремень тип 2 (Nike) - 9 шт, стоимость 1930 руб.\n",
      "Футболка тип 1 (Adidas) - 134 шт, стоимость 54264 руб.\n",
      "Шапка тип 5 (Puma) - 26 шт, стоимость 4550 руб.\n"
     ]
    }
   ],
   "source": [
    "# Задача 1.4.\n",
    "\n",
    "# Есть словарь кодов товаров titles\n",
    "\n",
    "titles = {\n",
    "    'Кроссовки тип 3 (Adidas)': '100000110',\n",
    "    'Мячик тип 2 (Adidas)': '100000146',\n",
    "    'Кепка тип 1 (Adidas)': '100000149',\n",
    "    'Ремень тип 2 (Nike)': '100000194',\n",
    "    'Футболка тип 1 (Adidas)': '100000224',\n",
    "    'Шапка тип 5 (Puma)': '100000280',\n",
    "}\n",
    "\n",
    "# Товары находятся на складе и сохранены в виде словаря списков словарей,\n",
    "# которые отражают количество товаров в магазине по каждому коду.\n",
    "\n",
    "store = {\n",
    "    '100000110': [{'quantity': 31, 'price': 1637}],\n",
    "    '100000146': [ {'quantity': 4, 'price': 45}, {'quantity': 10, 'price': 48}],\n",
    "    '100000149': [ {'quantity': 28, 'price': 279}, {'quantity': 32, 'price': 291}],\n",
    "    '100000194': [{'quantity': 8, 'price': 220}, {'quantity': 1, 'price': 170}],\n",
    "    '100000224': [{'quantity': 61, 'price': 438}, {'quantity': 23, 'price': 302},  {'quantity': 50, 'price': 412}],\n",
    "    '100000280': [{'quantity': 26, 'price': 175}, ]\n",
    "}\n",
    "\n",
    "result = []\n",
    "i = 0\n",
    "for name_title in titles:\n",
    "    result.append(name_title)   # print(f'Получена строка с кодом товара {name_title}') # titles[name_title]\n",
    "\n",
    "for num_name in store:          # print(f'Получаем список магазинов (словари) {num_name}') # store[num_name]\n",
    "    total_quantity = 0\n",
    "    total_sum = 0\n",
    "    for qp in store[num_name]:  # print(f'Получаем каждый магазин (словарь){qp}')\n",
    "        total_quantity = total_quantity + qp['quantity']\n",
    "        total_sum = total_sum + qp['quantity'] * qp['price']\n",
    "    print(f'{result[i]} - {total_quantity} шт, стоимость {total_sum} руб.')\n",
    "    i += 1\n",
    "   \n",
    "# Рассчитайте на какую сумму лежит каждого товара на складе.\n",
    "# Вывести суммарную стоимость каждого товара в магазине в формате:\n",
    "# \"<товар> - <кол-во> шт, стоимость <общая стоимость> руб\"\n",
    "\n",
    "# Пример: \"Кроссовки тип 3 (Adidas) - 31 шт, стоимость 50747 руб\""
   ]
  }
 ],
 "metadata": {
  "kernelspec": {
   "display_name": "project",
   "language": "python",
   "name": "python3"
  },
  "language_info": {
   "codemirror_mode": {
    "name": "ipython",
    "version": 3
   },
   "file_extension": ".py",
   "mimetype": "text/x-python",
   "name": "python",
   "nbconvert_exporter": "python",
   "pygments_lexer": "ipython3",
   "version": "3.11.3"
  },
  "orig_nbformat": 4
 },
 "nbformat": 4,
 "nbformat_minor": 2
}
