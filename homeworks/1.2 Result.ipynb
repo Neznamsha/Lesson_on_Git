{
 "cells": [
  {
   "attachments": {},
   "cell_type": "markdown",
   "metadata": {},
   "source": [
    "### Выполнение домашнего задания 1.2"
   ]
  },
  {
   "cell_type": "code",
   "execution_count": 1,
   "metadata": {},
   "outputs": [
    {
     "name": "stdout",
     "output_type": "stream",
     "text": [
      "Три песни звучат 11.22 минут\n",
      "Три песни звучат 11.57 минут\n"
     ]
    }
   ],
   "source": [
    "# Задача 1.2.\n",
    "\n",
    "# Пункт A, C (модуль random)\n",
    "# Приведем плейлист песен в виде списка списков\n",
    "# Список my_favorite_songs содержит список названий и длительности каждого трека\n",
    "# Выведите общее время звучания трех случайных песен в формате\n",
    "# Три песни звучат ХХХ минут\n",
    "\n",
    "# Пункт C. \n",
    "# Сгенерируйте случайные песни с помощью модуля random\n",
    "# import random\n",
    "\n",
    "my_favorite_songs = [\n",
    "    ['Waste a Moment', 3.03],\n",
    "    ['New Salvation', 4.02],\n",
    "    ['Staying\\' Alive', 3.40],\n",
    "    ['Out of Touch', 3.03],\n",
    "    ['A Sorta Fairytale', 5.28],\n",
    "    ['Easy', 4.15],\n",
    "    ['Beautiful Day', 4.04],\n",
    "    ['Nowhere to Run', 2.58],\n",
    "    ['In This World', 4.02],\n",
    "]\n",
    "\n",
    "import random\n",
    "i = 1\n",
    "sum_time = 0\n",
    "while i<=3:\n",
    "    sum_time = sum_time + random.choice(my_favorite_songs)[1]\n",
    "    i += 1\n",
    "print(f'Три песни звучат {sum_time} минут')\n",
    "\n",
    "# Пункт B, C (модуль random)\n",
    "# Есть словарь песен \n",
    "# Распечатайте общее время звучания трех случайных песен\n",
    "# Вывод: Три песни звучат ХХХ минут.\n",
    "\n",
    "# Пункт C. \n",
    "# Сгенерируйте случайные песни с помощью модуля random\n",
    "# import random\n",
    "\n",
    "my_favorite_songs_dict = {\n",
    "    'Waste a Moment': 3.03,\n",
    "    'New Salvation': 4.02,\n",
    "    'Staying\\' Alive': 3.40,\n",
    "    'Out of Touch': 3.03,\n",
    "    'A Sorta Fairytale': 5.28,\n",
    "    'Easy': 4.15,\n",
    "    'Beautiful Day': 4.04,\n",
    "    'Nowhere to Run': 2.58,\n",
    "    'In This World': 4.02,\n",
    "}\n",
    "import random\n",
    "i = 1\n",
    "sum_times = 0\n",
    "while i<=3:\n",
    "    sum_times = sum_times + my_favorite_songs_dict[random.choice(list(my_favorite_songs_dict))]\n",
    "    i += 1\n",
    "print(f'Три песни звучат {sum_times} минут')\n",
    "\n",
    "# Дополнительно \n",
    "# Пункт D.\n",
    "# Переведите минуты и секунды в формат времени. Используйте модуль datetime \n",
    "# import datetime\n",
    "# time = datetime(hour=12, minute=0, second=, microsecond=)\n",
    "# print(isoformat(timespec='microseconds'))"
   ]
  }
 ],
 "metadata": {
  "kernelspec": {
   "display_name": "project",
   "language": "python",
   "name": "python3"
  },
  "language_info": {
   "codemirror_mode": {
    "name": "ipython",
    "version": 3
   },
   "file_extension": ".py",
   "mimetype": "text/x-python",
   "name": "python",
   "nbconvert_exporter": "python",
   "pygments_lexer": "ipython3",
   "version": "3.11.3"
  },
  "orig_nbformat": 4
 },
 "nbformat": 4,
 "nbformat_minor": 2
}
