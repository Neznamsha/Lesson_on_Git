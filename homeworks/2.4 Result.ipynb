{
 "cells": [
  {
   "attachments": {},
   "cell_type": "markdown",
   "metadata": {},
   "source": [
    "### Выполнение домашнего задания 2.4"
   ]
  },
  {
   "cell_type": "code",
   "execution_count": 53,
   "metadata": {},
   "outputs": [
    {
     "name": "stdout",
     "output_type": "stream",
     "text": [
      "Oh, no\n"
     ]
    }
   ],
   "source": [
    "# Задача 2.4.\n",
    "\n",
    "# Пункт A.\n",
    "# Напишите функцию, которая удаляет все восклицательные знаки из заданной строк.\n",
    "# Например,\n",
    "# foo(\"Hi! Hello!\") -> \"Hi Hello\"\n",
    "# foo(\"\") -> \"\"\n",
    "# foo(\"Oh, no!!!\") -> \"Oh, no\"\n",
    "\n",
    "def remove_exclamation_marks(s):\n",
    "    new_s = ''\n",
    "    for symbol in s: \n",
    "        if symbol != '!': new_s += symbol \n",
    "    print(new_s)\n",
    "\n",
    "remove_exclamation_marks(\"Oh, no!!!\")"
   ]
  },
  {
   "cell_type": "code",
   "execution_count": 81,
   "metadata": {},
   "outputs": [
    {
     "name": "stdout",
     "output_type": "stream",
     "text": [
      "!Hi\n"
     ]
    }
   ],
   "source": [
    "# Пункт B.\n",
    "# Удалите восклицательный знак из конца строки. \n",
    "# remove(\"Hi!\") == \"Hi\"\n",
    "# remove(\"Hi!!!\") == \"Hi!!\"\n",
    "# remove(\"!Hi\") == \"!Hi\"\n",
    "\n",
    "def remove_last_em(s):\n",
    "    new_s = \"\"\n",
    "    if s[len(s) - 1] == \"!\": new_s = s[:-1]\n",
    "    else: new_s = s\n",
    "    print(new_s) \n",
    "\n",
    "remove_last_em(\"!Hi\")"
   ]
  },
  {
   "cell_type": "code",
   "execution_count": 137,
   "metadata": {},
   "outputs": [
    {
     "name": "stdout",
     "output_type": "stream",
     "text": [
      "!Hi!\n"
     ]
    }
   ],
   "source": [
    "# Дополнительно\n",
    "\n",
    "# Пункт С.\n",
    "# Удалите слова из предложения, если они содержат ровно один восклицательный знак.\n",
    "# Слова разделены одним пробелом.\n",
    "# Например,\n",
    "# remove(\"Hi!\") === \"\"\n",
    "# remove(\"Hi! Hi!\") === \"\"\n",
    "# remove(\"Hi! Hi! Hi!\") === \"\"\n",
    "# remove(\"Hi Hi! Hi!\") === \"Hi\"\n",
    "# remove(\"Hi! !Hi Hi!\") === \"\"\n",
    "# remove(\"Hi! Hi!! Hi!\") === \"Hi!!\"\n",
    "# remove(\"Hi! !Hi! Hi!\") === \"!Hi!\"\n",
    "\n",
    "def remove_word_with_one_em(s):\n",
    "    new_s = ''\n",
    "    for word in s.split(\" \"): \n",
    "        quantity_symbol = 0\n",
    "        for symbol in word: \n",
    "            if symbol == '!': quantity_symbol += 1\n",
    "        if quantity_symbol != 1: new_s += word\n",
    "    print(new_s)\n",
    "\n",
    "remove_word_with_one_em(\"Hi! !Hi! Hi!\")\n"
   ]
  }
 ],
 "metadata": {
  "kernelspec": {
   "display_name": "project",
   "language": "python",
   "name": "python3"
  },
  "language_info": {
   "codemirror_mode": {
    "name": "ipython",
    "version": 3
   },
   "file_extension": ".py",
   "mimetype": "text/x-python",
   "name": "python",
   "nbconvert_exporter": "python",
   "pygments_lexer": "ipython3",
   "version": "3.11.3"
  },
  "orig_nbformat": 4
 },
 "nbformat": 4,
 "nbformat_minor": 2
}
